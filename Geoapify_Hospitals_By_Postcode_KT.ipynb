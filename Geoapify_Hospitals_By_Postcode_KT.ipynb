{
 "cells": [
  {
   "cell_type": "markdown",
   "metadata": {},
   "source": [
    "# Geoapify Melbourne Locations\n",
    "## Hospitals"
   ]
  },
  {
   "cell_type": "code",
   "execution_count": 1,
   "metadata": {},
   "outputs": [],
   "source": [
    "# Dependencies\n",
    "import requests\n",
    "import json\n",
    "import pandas as pd\n",
    "\n",
    "# Import the API key\n",
    "from config import geoapify_key"
   ]
  },
  {
   "cell_type": "code",
   "execution_count": 2,
   "metadata": {},
   "outputs": [],
   "source": [
    "# Set the parameters for the type of place - hospital\n",
    "categories = \"healthcare.hospital\"\n",
    "\n",
    "# Set the parameters for the type of search of Melbourne (incl all Municipalities)\n",
    "filters = \"place:51397cf9ca8e286240593190f739f8ec42c0f00101f9016cca400000000000c002089203094d656c626f75726e65\"\n",
    "limit = 500\n",
    "\n",
    "# Set up a parameters dictionary\n",
    "params = {\n",
    "    \"categories\": categories,\n",
    "    \"limit\": limit,\n",
    "    \"filter\": filters,\n",
    "    \"apiKey\": geoapify_key\n",
    "}\n",
    "\n",
    "# Set base URL\n",
    "base_url = \"https://api.geoapify.com/v2/places\"\n",
    "\n",
    "# Run a request using our params dictionary\n",
    "response = requests.get(base_url, params=params)"
   ]
  },
  {
   "cell_type": "code",
   "execution_count": 3,
   "metadata": {},
   "outputs": [],
   "source": [
    "# print the response url, avoid doing for public github repos in order to avoid exposing key\n",
    "print(response.url)"
   ]
  },
  {
   "cell_type": "code",
   "execution_count": 4,
   "metadata": {},
   "outputs": [],
   "source": [
    "# Convert response to JSON\n",
    "places_data = response.json()\n",
    "\n",
    "# Print the json (pretty printed)\n",
    "print(json.dumps(places_data, indent=4, sort_keys=True))"
   ]
  },
  {
   "cell_type": "code",
   "execution_count": 5,
   "metadata": {},
   "outputs": [],
   "source": [
    "# Create an empty list to store hospital data\n",
    "hospital_data = []\n",
    "\n",
    "# Check if \"features\" key exists in the JSON response\n",
    "if \"features\" in places_data:\n",
    "    # Loop through all the hospitals\n",
    "    for feature in places_data[\"features\"]:\n",
    "        # Retrieve the desired information for each hospital\n",
    "        properties = feature.get(\"properties\", {})\n",
    "        name = properties.get(\"name\", None)\n",
    "        address = properties.get(\"address_line2\", None)\n",
    "        municipality = properties.get(\"municipality\", None)\n",
    "        suburb = properties.get(\"suburb\", None)\n",
    "        postcode = properties.get(\"postcode\", None)\n",
    "        latitude = properties.get(\"lat\", None)\n",
    "        longitude = properties.get(\"lon\", None)\n",
    "\n",
    "        # Append the hospital data to the list\n",
    "        hospital_data.append({\n",
    "            \"NAME\": name,\n",
    "            \"Address\": address,\n",
    "            \"Municipality\": municipality,\n",
    "            \"Suburb\": suburb,\n",
    "            \"POST_CODE\": postcode,\n",
    "            \"Latitude\":latitude,\n",
    "            \"Longitude\":longitude\n",
    "        })\n",
    "\n",
    "    # Create a DataFrame from the hospital data\n",
    "    hospital_df = pd.DataFrame(hospital_data)\n",
    "\n",
    "else:\n",
    "    print(\"No hospital data found.\")\n",
    "    \n",
    "hospital_df"
   ]
  },
  {
   "cell_type": "code",
   "execution_count": 6,
   "metadata": {},
   "outputs": [],
   "source": [
    "#Import mapping file - use to filter to sample postcodes for further analysis\n",
    "# Specify the file path and sheet name\n",
    "file_path = \"Resources/Melbourne Postcodes.xlsx\"\n",
    "sheet_name = \"Mapping\"\n",
    "\n",
    "# Read the specified sheet into a DataFrame\n",
    "melb_postcodes_df = pd.read_excel(file_path, sheet_name=sheet_name)\n",
    "melb_postcodes_df= melb_postcodes_df.dropna(subset=['ABS_SA2_KEY'])\n",
    "melb_postcodes_df= melb_postcodes_df.dropna(subset=['HOUSE_LOCALITY'])\n",
    "melb_postcodes_df= melb_postcodes_df.dropna(subset=['SCHOOL_POST_CODE'])\n",
    "\n",
    "#convert POST_CODE to string\n",
    "melb_postcodes_df['POST_CODE'] = melb_postcodes_df['POST_CODE'].astype(str)\n",
    "# Display the DataFrame\n",
    "melb_postcodes_df"
   ]
  },
  {
   "cell_type": "code",
   "execution_count": 7,
   "metadata": {},
   "outputs": [],
   "source": [
    "# Concatenate SUBURB_NAME values for each POST_CODE\n",
    "postcode_suburbs_df = melb_postcodes_df.groupby('POST_CODE')['SUBURB_NAME'].agg(lambda x: ', '.join(x)).reset_index()\n",
    "\n",
    "# Display the resulting DataFrame\n",
    "postcode_suburbs_df"
   ]
  },
  {
   "cell_type": "code",
   "execution_count": 8,
   "metadata": {},
   "outputs": [],
   "source": [
    "hospitals_clean_1_df = pd.merge(melb_postcodes_df, hospital_df, how='inner', on='POST_CODE')\n",
    "\n",
    "hospitals_clean_1_df= hospitals_clean_1_df.dropna(subset=['HOUSE_LOCALITY'])\n",
    "\n",
    "columns_to_drop = [\"RURAL_TOWNSHIP\",\"ABS_SA2_KEY\",\"HOUSE_LOCALITY\",\"SCHOOL_POST_CODE\",\n",
    "                   \"COMMENTS\",\"SUBURB_NAME\",\"SUBURB_POSTCODE_COMMENTS\",\"Address\",\"Municipality\"]\n",
    "\n",
    "hospitals_clean_1_df = hospitals_clean_1_df.drop(columns_to_drop, axis=1)\n",
    "hospitals_clean_1_df"
   ]
  },
  {
   "cell_type": "code",
   "execution_count": 9,
   "metadata": {},
   "outputs": [],
   "source": [
    "unique_count = hospitals_clean_1_df['POST_CODE'].nunique()\n",
    "\n",
    "# Display the count of unique strings\n",
    "print(unique_count)"
   ]
  },
  {
   "cell_type": "code",
   "execution_count": 10,
   "metadata": {},
   "outputs": [],
   "source": [
    "hospitals_clean_final_df = pd.merge(hospitals_clean_1_df, postcode_suburbs_df, how='inner', on='POST_CODE')\n",
    "new_column_names = {\n",
    "    \"SUBURB_NAME\": \"SUBURB_NAMES\",\n",
    "    }\n",
    "hospitals_clean_final_df = hospitals_clean_final_df.rename(columns=new_column_names)\n",
    "\n",
    "# Remove duplicates based on the \"POST_CODE\" column\n",
    "hospitals_clean_final_df = hospitals_clean_final_df.drop_duplicates(subset='POST_CODE')\n",
    "\n",
    "# Reset the index and make POST_CODE the new index\n",
    "hospitals_clean_final_df = hospitals_clean_final_df.set_index('POST_CODE')\n",
    "\n",
    "# Export cleaned population dataset to a CSV file\n",
    "hospitals_clean_final_df.to_csv(\"Cleaned_Data/hospitals_clean_final.csv\", index_label=\"POST_CODE\")\n",
    "\n",
    "hospitals_clean_final_df"
   ]
  },
  {
   "cell_type": "code",
   "execution_count": 11,
   "metadata": {},
   "outputs": [],
   "source": [
    "# Group the hospitals_clean_final_df by the specified columns and count the occurrences of NAME\n",
    "hospital_count_by_postcode_df = hospitals_clean_final_df.groupby(['POST_CODE', 'MUNICIPALITY', 'CITY_SHIRE', 'SUBURB_GROUP'])['NAME'].count().reset_index()\n",
    "\n",
    "# Rename the count column to \"Hospital_Count\"\n",
    "hospital_count_by_postcode_df = hospital_count_by_postcode_df.rename(columns={'NAME': 'Hospital_Count'})\n",
    "\n",
    "# Export the hospital count by postcode to a CSV file\n",
    "hospital_count_by_postcode_df.to_csv(\"Cleaned_Data/hospital_count_by_postcode_2023.csv\", index=False)\n",
    "\n",
    "# Display the hospital count DataFrame\n",
    "hospital_count_by_postcode_df"
   ]
  },
  {
   "cell_type": "code",
   "execution_count": null,
   "metadata": {},
   "outputs": [],
   "source": []
  }
 ],
 "metadata": {
  "kernelspec": {
   "display_name": "Python 3 (ipykernel)",
   "language": "python",
   "name": "python3"
  },
  "language_info": {
   "codemirror_mode": {
    "name": "ipython",
    "version": 3
   },
   "file_extension": ".py",
   "mimetype": "text/x-python",
   "name": "python",
   "nbconvert_exporter": "python",
   "pygments_lexer": "ipython3",
   "version": "3.10.11"
  },
  "latex_envs": {
   "LaTeX_envs_menu_present": true,
   "autoclose": false,
   "autocomplete": true,
   "bibliofile": "biblio.bib",
   "cite_by": "apalike",
   "current_citInitial": 1,
   "eqLabelWithNumbers": true,
   "eqNumInitial": 1,
   "hotkeys": {
    "equation": "Ctrl-E",
    "itemize": "Ctrl-I"
   },
   "labels_anchors": false,
   "latex_user_defs": false,
   "report_style_numbering": false,
   "user_envs_cfg": false
  }
 },
 "nbformat": 4,
 "nbformat_minor": 4
}
